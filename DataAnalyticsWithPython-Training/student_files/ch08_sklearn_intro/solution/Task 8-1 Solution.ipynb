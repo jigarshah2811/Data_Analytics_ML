{
 "cells": [
  {
   "cell_type": "markdown",
   "metadata": {},
   "source": [
    "<br><br>\n",
    "\n",
    "<h1 class=\"tasks\">Task 8-1 Solution: Linear Regression & Predicting Batting Average Given Hits</h1>\n",
    "\n",
    "<br>"
   ]
  },
  {
   "cell_type": "code",
   "execution_count": 30,
   "metadata": {},
   "outputs": [
    {
     "data": {
      "text/html": [
       "<style type=\"text/css\">\n",
       "    .tasks { color: red; }\n",
       "    .task { color: blue; }\n",
       "    .example { color: green; }\n",
       "</style>"
      ],
      "text/plain": [
       "<IPython.core.display.HTML object>"
      ]
     },
     "metadata": {},
     "output_type": "display_data"
    }
   ],
   "source": [
    "%%HTML\n",
    "<style type=\"text/css\">\n",
    "    .tasks { color: red; }\n",
    "    .task { color: blue; }\n",
    "    .example { color: green; }\n",
    "</style>"
   ]
  },
  {
   "cell_type": "code",
   "execution_count": 31,
   "metadata": {},
   "outputs": [],
   "source": [
    "import sqlite3\n",
    "import warnings\n",
    "\n",
    "import matplotlib.pyplot as plt\n",
    "import numpy as np\n",
    "import pandas as pd\n",
    "import seaborn as sns\n",
    "from sklearn.linear_model import LinearRegression\n",
    "\n",
    "sns.set()\n",
    "\n",
    "warnings.filterwarnings('ignore')\n",
    "np.set_printoptions(precision=3, suppress=True)\n",
    "\n",
    "pd.set_option('max_rows', 150)\n",
    "\n",
    "%matplotlib inline"
   ]
  },
  {
   "cell_type": "code",
   "execution_count": 32,
   "metadata": {},
   "outputs": [
    {
     "name": "stdout",
     "output_type": "stream",
     "text": [
      "(8561, 3)\n"
     ]
    },
    {
     "data": {
      "text/html": [
       "<div>\n",
       "<style scoped>\n",
       "    .dataframe tbody tr th:only-of-type {\n",
       "        vertical-align: middle;\n",
       "    }\n",
       "\n",
       "    .dataframe tbody tr th {\n",
       "        vertical-align: top;\n",
       "    }\n",
       "\n",
       "    .dataframe thead th {\n",
       "        text-align: right;\n",
       "    }\n",
       "</style>\n",
       "<table border=\"1\" class=\"dataframe\">\n",
       "  <thead>\n",
       "    <tr style=\"text-align: right;\">\n",
       "      <th></th>\n",
       "      <th>atbats</th>\n",
       "      <th>hits</th>\n",
       "      <th>avgs</th>\n",
       "    </tr>\n",
       "  </thead>\n",
       "  <tbody>\n",
       "    <tr>\n",
       "      <th>2141</th>\n",
       "      <td>521.0</td>\n",
       "      <td>161.0</td>\n",
       "      <td>0.309021</td>\n",
       "    </tr>\n",
       "    <tr>\n",
       "      <th>2316</th>\n",
       "      <td>518.0</td>\n",
       "      <td>139.0</td>\n",
       "      <td>0.268340</td>\n",
       "    </tr>\n",
       "    <tr>\n",
       "      <th>3103</th>\n",
       "      <td>504.0</td>\n",
       "      <td>187.0</td>\n",
       "      <td>0.371032</td>\n",
       "    </tr>\n",
       "    <tr>\n",
       "      <th>3120</th>\n",
       "      <td>522.0</td>\n",
       "      <td>118.0</td>\n",
       "      <td>0.226054</td>\n",
       "    </tr>\n",
       "    <tr>\n",
       "      <th>3154</th>\n",
       "      <td>578.0</td>\n",
       "      <td>147.0</td>\n",
       "      <td>0.254325</td>\n",
       "    </tr>\n",
       "  </tbody>\n",
       "</table>\n",
       "</div>"
      ],
      "text/plain": [
       "      atbats   hits      avgs\n",
       "2141   521.0  161.0  0.309021\n",
       "2316   518.0  139.0  0.268340\n",
       "3103   504.0  187.0  0.371032\n",
       "3120   522.0  118.0  0.226054\n",
       "3154   578.0  147.0  0.254325"
      ]
     },
     "execution_count": 32,
     "metadata": {},
     "output_type": "execute_result"
    }
   ],
   "source": [
    "df = pd.read_csv('../../resources/baseball/Batting.csv', usecols=(6, 8))\n",
    "df.columns = ['atbats', 'hits']\n",
    "df['avgs'] = df['hits'] / df['atbats']\n",
    "df = df.loc[(df['atbats'] >= 502)]\n",
    "print(df.shape)\n",
    "df.head()"
   ]
  },
  {
   "cell_type": "code",
   "execution_count": 33,
   "metadata": {},
   "outputs": [],
   "source": [
    "regr = LinearRegression()"
   ]
  },
  {
   "cell_type": "code",
   "execution_count": 34,
   "metadata": {},
   "outputs": [],
   "source": [
    "x = df['hits'].values[:, None]             # must use form: [[x1], [x2], [x3], ...]\n",
    "y = df['avgs'].values[:, None]             # must use form: [[y1], [y2], [y3], ...]"
   ]
  },
  {
   "cell_type": "code",
   "execution_count": 35,
   "metadata": {},
   "outputs": [
    {
     "data": {
      "text/plain": [
       "array([[161.],\n",
       "       [139.],\n",
       "       [187.],\n",
       "       ...,\n",
       "       [171.],\n",
       "       [146.],\n",
       "       [146.]])"
      ]
     },
     "execution_count": 35,
     "metadata": {},
     "output_type": "execute_result"
    }
   ],
   "source": [
    "x"
   ]
  },
  {
   "cell_type": "code",
   "execution_count": 36,
   "metadata": {},
   "outputs": [
    {
     "data": {
      "text/plain": [
       "array([[0.309],\n",
       "       [0.268],\n",
       "       [0.371],\n",
       "       ...,\n",
       "       [0.314],\n",
       "       [0.269],\n",
       "       [0.262]])"
      ]
     },
     "execution_count": 36,
     "metadata": {},
     "output_type": "execute_result"
    }
   ],
   "source": [
    "y"
   ]
  },
  {
   "cell_type": "code",
   "execution_count": 37,
   "metadata": {},
   "outputs": [
    {
     "name": "stdout",
     "output_type": "stream",
     "text": [
      "Coefficients:  [[0.001]]\n",
      "Intercept:  [0.095]\n",
      "Score:  0.7359931257060934\n"
     ]
    }
   ],
   "source": [
    "regr.fit(x, y)\n",
    "\n",
    "print('Coefficients: ', regr.coef_)\n",
    "print('Intercept: ', regr.intercept_)\n",
    "print('Score: ', regr.score(x, y))"
   ]
  },
  {
   "cell_type": "code",
   "execution_count": 38,
   "metadata": {},
   "outputs": [
    {
     "data": {
      "image/png": "[encoded data removed]",
      "text/plain": [
       "<Figure size 432x288 with 1 Axes>"
      ]
     },
     "metadata": {
      "needs_background": "light"
     },
     "output_type": "display_data"
    }
   ],
   "source": [
    "plt.scatter(df['hits'], df['avgs'], color='#24a1f2', marker='.')\n",
    "plt.plot(x, regr.predict(x));"
   ]
  },
  {
   "cell_type": "code",
   "execution_count": null,
   "metadata": {},
   "outputs": [],
   "source": []
  }
 ],
 "metadata": {
  "kernelspec": {
   "display_name": "Python 3",
   "language": "python",
   "name": "python3"
  },
  "language_info": {
   "codemirror_mode": {
    "name": "ipython",
    "version": 3
   },
   "file_extension": ".py",
   "mimetype": "text/x-python",
   "name": "python",
   "nbconvert_exporter": "python",
   "pygments_lexer": "ipython3",
   "version": "3.7.0"
  }
 },
 "nbformat": 4,
 "nbformat_minor": 2
}
